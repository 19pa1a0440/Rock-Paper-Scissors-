{
  "nbformat": 4,
  "nbformat_minor": 0,
  "metadata": {
    "colab": {
      "name": "Rock.ipynb",
      "provenance": [],
      "collapsed_sections": [],
      "authorship_tag": "ABX9TyPReYlnhh7jElZ+nxmzGkPM",
      "include_colab_link": true
    },
    "kernelspec": {
      "name": "python3",
      "display_name": "Python 3"
    },
    "language_info": {
      "name": "python"
    }
  },
  "cells": [
    {
      "cell_type": "markdown",
      "metadata": {
        "id": "view-in-github",
        "colab_type": "text"
      },
      "source": [
        "<a href=\"https://colab.research.google.com/github/19pa1a0440/Rock-Paper-Scissors-/blob/main/RockPaperScissor.ipynb\" target=\"_parent\"><img src=\"https://colab.research.google.com/assets/colab-badge.svg\" alt=\"Open In Colab\"/></a>"
      ]
    },
    {
      "cell_type": "code",
      "metadata": {
        "colab": {
          "base_uri": "https://localhost:8080/"
        },
        "id": "iswFec8rUO2x",
        "outputId": "829cd3ba-b370-4425-f5b9-494c16a1ac90"
      },
      "source": [
        "import random\n",
        "from enum import IntEnum\n",
        "\n",
        "class Action(IntEnum):\n",
        "    Rock = 0\n",
        "    Paper = 1\n",
        "    Scissors = 2\n",
        "    Lizard = 3\n",
        "    Spock = 4\n",
        "\n",
        "victories = {\n",
        "    Action.Scissors: [Action.Lizard, Action.Paper],\n",
        "    Action.Paper: [Action.Spock, Action.Rock],\n",
        "    Action.Rock: [Action.Lizard, Action.Scissors],\n",
        "    Action.Lizard: [Action.Spock, Action.Paper],\n",
        "    Action.Spock: [Action.Scissors, Action.Rock]\n",
        "}\n",
        "\n",
        "def get_user_selection():\n",
        "    choices = [f\"{action.name}[{action.value}]\" for action in Action]\n",
        "    choices_str = \", \".join(choices)\n",
        "    selection = int(input(f\"Enter a choice ({choices_str}): \"))\n",
        "    action = Action(selection)\n",
        "    return action\n",
        "\n",
        "def get_computer_selection():\n",
        "    selection = random.randint(0, len(Action) - 1)\n",
        "    action = Action(selection)\n",
        "    return action\n",
        "\n",
        "def determine_winner(user_action, computer_action):\n",
        "    defeats = victories[user_action]\n",
        "    if user_action == computer_action:\n",
        "        print(f\"Both players selected {user_action.name}. It's a tie!\")\n",
        "    elif computer_action in defeats:\n",
        "        print(f\"{user_action.name} beats {computer_action.name}! You win!\")\n",
        "    else:\n",
        "        print(f\"{computer_action.name} beats {user_action.name}! You lose.\")\n",
        "\n",
        "while True:\n",
        "    try:\n",
        "        user_action = get_user_selection()\n",
        "    except ValueError as e:\n",
        "        range_str = f\"[0, {len(Action) - 1}]\"\n",
        "        print(f\"Invalid selection. Enter a value in range {range_str}\")\n",
        "        continue\n",
        "\n",
        "    computer_action = get_computer_selection()\n",
        "    determine_winner(user_action, computer_action)\n",
        "    \n",
        "    play_again = input(\"Play again? (y/n): \")\n",
        "    if play_again.lower() != \"y\":\n",
        "        break"
      ],
      "execution_count": 1,
      "outputs": [
        {
          "name": "stdout",
          "output_type": "stream",
          "text": [
            "Enter a choice (Rock[0], Paper[1], Scissors[2], Lizard[3], Spock[4]): 4\n",
            "Spock beats Scissors! You win!\n",
            "Play again? (y/n): 2\n"
          ]
        }
      ]
    }
  ]
}